{
 "cells": [
  {
   "cell_type": "code",
   "execution_count": 1,
   "id": "b380518b-b463-4620-a7a4-da392eb649b8",
   "metadata": {},
   "outputs": [
    {
     "name": "stdout",
     "output_type": "stream",
     "text": [
      "Hi\n"
     ]
    }
   ],
   "source": [
    "print('Hi')"
   ]
  },
  {
   "cell_type": "code",
   "execution_count": 54,
   "id": "cd5fbff2-9993-4ac2-9e40-0db20f54f205",
   "metadata": {},
   "outputs": [],
   "source": [
    "user_bill=0\n",
    "def welcome():\n",
    "    print('*Welcome to Divine Cafe*')\n",
    "def menu():\n",
    "    global cafe_menu\n",
    "    print('MENU')\n",
    "    cafe_menu={'coffee': 100, 'tea': 50, 'toast': 30, 'croissant': 80, 'sandwich': 120, 'muffin': 60, 'smoothie': 150, 'latte': 120, 'espresso': 90}\n",
    "    for i in cafe_menu:\n",
    "        print(i.title(),'|',cafe_menu[i])\n",
    "def order():\n",
    "    global ord\n",
    "    ord = input('Enter your order:)')\n",
    "  \n",
    "def prep():\n",
    "    global  user_bill\n",
    "    print('Preparing your:',ord.title())\n",
    "    import time\n",
    "    time.sleep(3)\n",
    "    user_bill= user_bill+cafe_menu[ord.lower()] \n",
    "def bill():\n",
    "    print('Your Bill:', user_bill)\n",
    "def payment():\n",
    "    global  user_bill\n",
    "    pay=int(input('Pay here:'))\n",
    "    while pay<user_bill:\n",
    "        user_bill=user_bill-pay\n",
    "        print('Payment unsuccessful')\n",
    "        print('Please Pay:',user_bill)\n",
    "        pay=int(input('Pay remaining amount:'))\n",
    "    if pay> user_bill:\n",
    "        print('Change=',pay-user_bill)\n",
    "    elif pay== user_bill:\n",
    "        print('Thank You:)')\n",
    "    else:\n",
    "        pass\n",
    "    print('Visit Again!')\n",
    "\n"
   ]
  },
  {
   "cell_type": "code",
   "execution_count": 56,
   "id": "41cbc373-1804-4bff-984f-1c4d30530558",
   "metadata": {},
   "outputs": [],
   "source": [
    "def process():  \n",
    "    menu()\n",
    "    order()\n",
    "    if ord.lower() in cafe_menu:      \n",
    "       prep()\n",
    "       repeat=input('Would you like to order anything else')\n",
    "       while repeat.lower()=='yes':\n",
    "               repeatord()  \n",
    "               repeat=input('Would you like to order anything else')\n",
    "       bill()\n",
    "       payment()\n",
    "    else:\n",
    "        print('Invalid Order')\n",
    "        process()\n",
    "\n"
   ]
  },
  {
   "cell_type": "code",
   "execution_count": 58,
   "id": "c6165c1d-e0ea-456c-943a-509867e738c2",
   "metadata": {},
   "outputs": [],
   "source": [
    "def repeatord():\n",
    "    menu()\n",
    "    order()\n",
    "    if ord.lower() in cafe_menu:\n",
    "       prep()\n",
    "    else:\n",
    "         print('Invalid Order')\n",
    "         repeatord()"
   ]
  },
  {
   "cell_type": "code",
   "execution_count": 60,
   "id": "b1dd3923-bcfa-4416-8db1-9e3cc5a59520",
   "metadata": {},
   "outputs": [
    {
     "name": "stdout",
     "output_type": "stream",
     "text": [
      "*Welcome to Divine Cafe*\n"
     ]
    }
   ],
   "source": [
    "welcome()\n"
   ]
  },
  {
   "cell_type": "code",
   "execution_count": 62,
   "id": "245e326f-deb7-44fb-a98a-2e744616977c",
   "metadata": {},
   "outputs": [
    {
     "name": "stdout",
     "output_type": "stream",
     "text": [
      "MENU\n",
      "Coffee | 100\n",
      "Tea | 50\n",
      "Toast | 30\n",
      "Croissant | 80\n",
      "Sandwich | 120\n",
      "Muffin | 60\n",
      "Smoothie | 150\n",
      "Latte | 120\n",
      "Espresso | 90\n"
     ]
    },
    {
     "name": "stdin",
     "output_type": "stream",
     "text": [
      "Enter your order:) latte\n"
     ]
    },
    {
     "name": "stdout",
     "output_type": "stream",
     "text": [
      "Preparing your: Latte\n"
     ]
    },
    {
     "name": "stdin",
     "output_type": "stream",
     "text": [
      "Would you like to order anything else zvnaw;snv\n"
     ]
    },
    {
     "name": "stdout",
     "output_type": "stream",
     "text": [
      "Your Bill: 120\n"
     ]
    },
    {
     "name": "stdin",
     "output_type": "stream",
     "text": [
      "Pay here: 120\n"
     ]
    },
    {
     "name": "stdout",
     "output_type": "stream",
     "text": [
      "Thank You:)\n",
      "Visit Again!\n"
     ]
    }
   ],
   "source": [
    "import tkinter as tk\n",
    "\n",
    "window=tk.Tk()\n",
    "window.title('Restaurant Management System')\n",
    "window.geometry=('500x500')\n",
    "tk.Button(window,text='Order',width=10,command=process).place(x=40,y=40)\n",
    "\n",
    "\n",
    "window.mainloop()\n"
   ]
  },
  {
   "cell_type": "code",
   "execution_count": null,
   "id": "947f8bca-b6f7-480e-b065-5d3d9b1d527a",
   "metadata": {},
   "outputs": [],
   "source": []
  }
 ],
 "metadata": {
  "kernelspec": {
   "display_name": "Python 3 (ipykernel)",
   "language": "python",
   "name": "python3"
  },
  "language_info": {
   "codemirror_mode": {
    "name": "ipython",
    "version": 3
   },
   "file_extension": ".py",
   "mimetype": "text/x-python",
   "name": "python",
   "nbconvert_exporter": "python",
   "pygments_lexer": "ipython3",
   "version": "3.12.4"
  }
 },
 "nbformat": 4,
 "nbformat_minor": 5
}
